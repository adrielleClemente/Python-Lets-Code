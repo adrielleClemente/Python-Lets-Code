{
 "cells": [
  {
   "cell_type": "code",
   "execution_count": 1,
   "id": "363e273e",
   "metadata": {},
   "outputs": [],
   "source": [
    "#importar biblioteca\n",
    "import csv"
   ]
  },
  {
   "cell_type": "code",
   "execution_count": 3,
   "id": "179fd0d1",
   "metadata": {},
   "outputs": [
    {
     "name": "stdout",
     "output_type": "stream",
     "text": [
      "['ï»¿Nome', 'Sobrenome', 'Email', 'Telefone', 'Etiquetas', 'Criado em', 'Status da assinatura', 'Compras totais', 'Valor das despesas', 'Ãšltima atividade', 'Data da Ãºltima atividade', 'Fonte']\n",
      "['', '', 'epeducacentrum@gmail.com', '', '', '2021-10-04 15:09', 'Assinatura nÃ£o definida', '', '', 'Enviou um formulÃ¡rio', '2021-11-29 02:32', 'Membros do site']\n",
      "['Clair LÃºcia Jacoboski', '', 'clairjacoboski1969@gmail.com', '', 'Contato;Subscriptions', '2021-12-07 20:24', 'Assinou', '', '', 'Assinou o site', '2021-12-07 20:24', 'FormulÃ¡rio']\n",
      "['Lucimar machado vieira', '', 'lucimarmachado607@gmail.com', '', 'Contato;Subscriptions', '2021-12-07 20:40', 'Assinou', '', '', 'Assinou o site', '2021-12-07 20:40', 'FormulÃ¡rio']\n",
      "['isael freire santos', '', 'isaelfreiresantossantos@gmail.com', '', 'Contato;Subscriptions', '2021-12-07 21:48', 'Assinou', '', '', 'Assinou o site', '2021-12-07 21:48', 'FormulÃ¡rio']\n",
      "['Daniela Silva Andrade', '', 'danieladanda986@gmail.com', '', 'Contato;Subscriptions', '2021-12-07 21:51', 'Assinou', '', '', 'Assinou o site', '2021-12-07 21:51', 'FormulÃ¡rio']\n",
      "['Regina MÃ¡rcia Silva', '', 'ondasdomar3@gmail.com', '', 'Contato;Subscriptions', '2021-12-08 01:12', 'Assinou', '', '', 'Assinou o site', '2021-12-08 01:12', 'FormulÃ¡rio']\n",
      "['Caio victor', '', 'caioviana984@gmail.com', '', 'Contato;Subscriptions', '2021-12-08 09:19', 'Assinou', '', '', 'Assinou o site', '2021-12-08 09:19', 'FormulÃ¡rio']\n",
      "['Adriane Meireles', '', 'adrianemeirelis37@gmail.com', '', 'Contato;Subscriptions', '2021-12-08 14:50', 'Assinou', '', '', 'Assinou o site', '2021-12-08 14:50', 'FormulÃ¡rio']\n",
      "['LucinÃ©ia Aparecida CondÃ©', '', 'condelucineia23@hotmail.com', '', 'Contato;Subscriptions', '2021-12-08 18:07', 'Assinou', '', '', 'Assinou o site', '2021-12-08 18:07', 'FormulÃ¡rio']\n",
      "['joaozinhoreisabc@gmail.com', '', 'joaozinhoreisabc@gmail.com', '', 'Contato;Subscriptions', '2021-12-08 19:33', 'Assinou', '', '', 'Assinou o site', '2021-12-08 19:33', 'FormulÃ¡rio']\n",
      "['Luciana Carvalho', '', 'enf.lucianacarvalho@hotmail.com', '', 'Contato;Subscriptions', '2021-12-08 20:08', 'Assinou', '', '', 'Assinou o site', '2021-12-08 20:08', 'FormulÃ¡rio']\n",
      "['Clovis Silva Santos', '', 'clovissilvasantos169@gmail.com', '', 'Contato;Subscriptions', '2021-12-08 22:36', 'Assinou', '', '', 'Assinou o site', '2021-12-08 22:36', 'FormulÃ¡rio']\n",
      "['SÃ©rgio Ricardo de Oliveira', '', 's.ricardo4062@gmail.com', '', 'Contato;Subscriptions', '2021-12-09 01:08', 'Assinou', '', '', 'Assinou o site', '2021-12-09 01:08', 'FormulÃ¡rio']\n",
      "['Adriana Maria Pereira de Oliveira Santos', '', 'adrianaampos@hotmail.com', '', 'Contato;Subscriptions', '2021-12-09 16:42', 'Assinou', '', '', 'Assinou o site', '2021-12-09 16:42', 'FormulÃ¡rio']\n",
      "['LUIS ENRIQUE SOSA BALLINES', '', 'le68929@gmail.com', '', 'Contato;Subscriptions', '2021-12-10 00:32', 'Assinou', '', '', 'Assinou o site', '2021-12-10 00:32', 'FormulÃ¡rio']\n",
      "['Edson Machado', '', 'em656704@gmail.com', '', 'Contato;Subscriptions', '2021-12-10 00:57', 'Assinou', '', '', 'Assinou o site', '2021-12-10 00:57', 'FormulÃ¡rio']\n",
      "['Maria Heloisa', '', 'mariainza2020@gmail.com', '', 'Contato;Subscriptions', '2021-12-10 01:41', 'Assinou', '', '', 'Assinou o site', '2021-12-10 01:41', 'FormulÃ¡rio']\n",
      "['Elisabete da Rocha Bastos', '', 'elisabeterochabastos@gmail.com', '', 'Contato;Subscriptions', '2021-12-10 08:23', 'Assinou', '', '', 'Assinou o site', '2021-12-10 08:23', 'FormulÃ¡rio']\n",
      "['Patricia', '', 'patriciamartinsdeniz1979@gmail.com', '', 'Contato;Subscriptions', '2021-12-10 09:50', 'Assinou', '', '', 'Assinou o site', '2021-12-10 09:50', 'FormulÃ¡rio']\n",
      "['Estrela de Ouro', '', 'estreladeourocer@gmail.com', '', 'Contato;Subscriptions', '2021-12-10 12:54', 'Assinou', '', '', 'Assinou o site', '2021-12-10 12:54', 'FormulÃ¡rio']\n",
      "['Jane Cler Bueno', '', 'buenojane29@gmail.com', '', 'Contato;Subscriptions', '2021-12-10 13:53', 'Assinou', '', '', 'Assinou o site', '2021-12-10 13:53', 'FormulÃ¡rio']\n",
      "['Rosemeire Alves Santos', '', 'meirealves28100@gmail.com', '', 'Contato;Subscriptions', '2021-12-10 17:13', 'Assinou', '', '', 'Assinou o site', '2021-12-10 17:13', 'FormulÃ¡rio']\n",
      "['Elis Regina de Medeiros Queiroz', '', 'elisrmdequeiroz@gmail.com', '', 'Contato;Subscriptions', '2021-12-10 20:34', 'Assinou', '', '', 'Assinou o site', '2021-12-10 20:34', 'FormulÃ¡rio']\n",
      "['Vera', '', 'veralucia382016@gmail.com', '', 'Contato;Subscriptions', '2021-12-10 20:53', 'Assinou', '', '', 'Assinou o site', '2021-12-10 20:53', 'FormulÃ¡rio']\n",
      "['Marli', '', 'marlfsc@outlook.com', '', 'Contato;Subscriptions', '2021-12-10 21:25', 'Assinou', '', '', 'Assinou o site', '2021-12-10 21:25', 'FormulÃ¡rio']\n",
      "['', '', 'yurirayne2017@gmail.com', '', 'Contato;Subscriptions', '2021-12-11 06:16', 'Assinou', '', '', 'Assinou o site', '2021-12-11 06:16', 'FormulÃ¡rio']\n",
      "['Maria', '', 'ir.mss@hotmail.com', '', 'Contato;Subscriptions', '2021-12-11 11:07', 'Assinou', '', '', 'Assinou o site', '2021-12-11 11:07', 'FormulÃ¡rio']\n",
      "['Patricia', '', 'dederichs.silva@bol.com.br', '', 'Contato;Subscriptions', '2021-12-11 12:49', 'Assinou', '', '', 'Assinou o site', '2021-12-11 12:49', 'FormulÃ¡rio']\n",
      "['Ana Paula', '', 'santospaulinha452@gmail.com', '', 'Contato;Subscriptions', '2021-12-11 17:25', 'Assinou', '', '', 'Assinou o site', '2021-12-11 17:25', 'FormulÃ¡rio']\n",
      "['ADRIELLE CARDOSO', 'CLEMENTE', 'minha.propagacao@gmail.com', '67992722978', 'Clientes', '2021-12-14 23:37', 'Assinatura nÃ£o definida', '1.0', 'R$ 4.75', 'SolicitaÃ§Ã£o de membro do site', '2021-12-17 04:13', 'Wix Stores']\n",
      "['Luciana', 'Rocha Costa', 'lucianadecknes@gmail.com', '67992656973', 'Clientes', '2021-12-14 23:41', 'Assinatura nÃ£o definida', '1.0', 'R$ 4.75', 'Pagou uma fatura', '2021-12-14 23:50', 'Wix Stores']\n",
      "['Eliane', '', 'vidadojovemadulto@gmail.com', '', 'Contato;Subscriptions', '2021-12-20 21:54', 'Assinou', '', '', 'Assinou o site', '2021-12-20 21:57', 'FormulÃ¡rio']\n"
     ]
    }
   ],
   "source": [
    "#abre o arquivo 'csv', informa o objetivo('r'), cria uma variável (leitor) informa a biblioteca importada(csv) e função .reader()\n",
    "#assim navegar por cada linha por laço 'For' e imprimir a variável criada 'linha'.\n",
    "#imprime-se em forma de Lista\n",
    "with open('contatos e-book cuidador.csv','r') as arquivo:\n",
    "    leitor = csv.reader(arquivo)\n",
    "    for linha in leitor:\n",
    "        print(linha)"
   ]
  },
  {
   "cell_type": "code",
   "execution_count": 10,
   "id": "cd9619e0",
   "metadata": {},
   "outputs": [
    {
     "name": "stdout",
     "output_type": "stream",
     "text": [
      "['Eliane', '', 'vidadojovemadulto@gmail.com', '', 'Contato;Subscriptions', '2021-12-20 21:54', 'Assinou', '', '', 'Assinou o site', '2021-12-20 21:57', 'FormulÃ¡rio']\n"
     ]
    }
   ],
   "source": [
    "#exemplo de if\n",
    "#pulando o cabeçalho com 'next'. como ele começa a ler desde a 1° linha, automaticamente, ele vai pular a q encontrar.\n",
    "with open('contatos e-book cuidador.csv','r') as arquivo:\n",
    "    leitor = csv.reader(arquivo)\n",
    "    header = next(leitor)\n",
    "    for linha in leitor:\n",
    "        if linha[0]=='Eliane':\n",
    "            print(linha)"
   ]
  },
  {
   "cell_type": "code",
   "execution_count": 14,
   "id": "1a77ebef",
   "metadata": {},
   "outputs": [
    {
     "name": "stdout",
     "output_type": "stream",
     "text": [
      "['ï»¿Nome', 'Sobrenome', 'Email', 'Telefone', 'Etiquetas', 'Criado em', 'Status da assinatura', 'Compras totais', 'Valor das despesas', 'Ãšltima atividade', 'Data da Ãºltima atividade', 'Fonte']\n",
      "['\"\"', '', 'epeducacentrum@gmail.com', '', '', '2021-10-04 15:09', 'Assinatura nÃ£o definida', '', '', 'Enviou um formulÃ¡rio', '2021-11-29 02:32', 'Membros do site']\n",
      "['Clair LÃºcia Jacoboski', '', 'clairjacoboski1969@gmail.com', '', 'Contato;Subscriptions', '2021-12-07 20:24', 'Assinou', '', '', 'Assinou o site', '2021-12-07 20:24', 'FormulÃ¡rio']\n",
      "['Lucimar machado vieira', '', 'lucimarmachado607@gmail.com', '', 'Contato;Subscriptions', '2021-12-07 20:40', 'Assinou', '', '', 'Assinou o site', '2021-12-07 20:40', 'FormulÃ¡rio']\n",
      "['isael freire santos', '', 'isaelfreiresantossantos@gmail.com', '', 'Contato;Subscriptions', '2021-12-07 21:48', 'Assinou', '', '', 'Assinou o site', '2021-12-07 21:48', 'FormulÃ¡rio']\n",
      "['Daniela Silva Andrade', '', 'danieladanda986@gmail.com', '', 'Contato;Subscriptions', '2021-12-07 21:51', 'Assinou', '', '', 'Assinou o site', '2021-12-07 21:51', 'FormulÃ¡rio']\n",
      "['Regina MÃ¡rcia Silva', '', 'ondasdomar3@gmail.com', '', 'Contato;Subscriptions', '2021-12-08 01:12', 'Assinou', '', '', 'Assinou o site', '2021-12-08 01:12', 'FormulÃ¡rio']\n",
      "['Caio victor', '', 'caioviana984@gmail.com', '', 'Contato;Subscriptions', '2021-12-08 09:19', 'Assinou', '', '', 'Assinou o site', '2021-12-08 09:19', 'FormulÃ¡rio']\n",
      "['Adriane Meireles', '', 'adrianemeirelis37@gmail.com', '', 'Contato;Subscriptions', '2021-12-08 14:50', 'Assinou', '', '', 'Assinou o site', '2021-12-08 14:50', 'FormulÃ¡rio']\n",
      "['LucinÃ©ia Aparecida CondÃ©', '', 'condelucineia23@hotmail.com', '', 'Contato;Subscriptions', '2021-12-08 18:07', 'Assinou', '', '', 'Assinou o site', '2021-12-08 18:07', 'FormulÃ¡rio']\n",
      "['joaozinhoreisabc@gmail.com', '', 'joaozinhoreisabc@gmail.com', '', 'Contato;Subscriptions', '2021-12-08 19:33', 'Assinou', '', '', 'Assinou o site', '2021-12-08 19:33', 'FormulÃ¡rio']\n",
      "['Luciana Carvalho', '', 'enf.lucianacarvalho@hotmail.com', '', 'Contato;Subscriptions', '2021-12-08 20:08', 'Assinou', '', '', 'Assinou o site', '2021-12-08 20:08', 'FormulÃ¡rio']\n",
      "['Clovis Silva Santos', '', 'clovissilvasantos169@gmail.com', '', 'Contato;Subscriptions', '2021-12-08 22:36', 'Assinou', '', '', 'Assinou o site', '2021-12-08 22:36', 'FormulÃ¡rio']\n",
      "['SÃ©rgio Ricardo de Oliveira', '', 's.ricardo4062@gmail.com', '', 'Contato;Subscriptions', '2021-12-09 01:08', 'Assinou', '', '', 'Assinou o site', '2021-12-09 01:08', 'FormulÃ¡rio']\n",
      "['Adriana Maria Pereira de Oliveira Santos', '', 'adrianaampos@hotmail.com', '', 'Contato;Subscriptions', '2021-12-09 16:42', 'Assinou', '', '', 'Assinou o site', '2021-12-09 16:42', 'FormulÃ¡rio']\n",
      "['LUIS ENRIQUE SOSA BALLINES', '', 'le68929@gmail.com', '', 'Contato;Subscriptions', '2021-12-10 00:32', 'Assinou', '', '', 'Assinou o site', '2021-12-10 00:32', 'FormulÃ¡rio']\n",
      "['Edson Machado', '', 'em656704@gmail.com', '', 'Contato;Subscriptions', '2021-12-10 00:57', 'Assinou', '', '', 'Assinou o site', '2021-12-10 00:57', 'FormulÃ¡rio']\n",
      "['Maria Heloisa', '', 'mariainza2020@gmail.com', '', 'Contato;Subscriptions', '2021-12-10 01:41', 'Assinou', '', '', 'Assinou o site', '2021-12-10 01:41', 'FormulÃ¡rio']\n",
      "['Elisabete da Rocha Bastos', '', 'elisabeterochabastos@gmail.com', '', 'Contato;Subscriptions', '2021-12-10 08:23', 'Assinou', '', '', 'Assinou o site', '2021-12-10 08:23', 'FormulÃ¡rio']\n",
      "['Patricia', '', 'patriciamartinsdeniz1979@gmail.com', '', 'Contato;Subscriptions', '2021-12-10 09:50', 'Assinou', '', '', 'Assinou o site', '2021-12-10 09:50', 'FormulÃ¡rio']\n",
      "['Estrela de Ouro', '', 'estreladeourocer@gmail.com', '', 'Contato;Subscriptions', '2021-12-10 12:54', 'Assinou', '', '', 'Assinou o site', '2021-12-10 12:54', 'FormulÃ¡rio']\n",
      "['Jane Cler Bueno', '', 'buenojane29@gmail.com', '', 'Contato;Subscriptions', '2021-12-10 13:53', 'Assinou', '', '', 'Assinou o site', '2021-12-10 13:53', 'FormulÃ¡rio']\n",
      "['Rosemeire Alves Santos', '', 'meirealves28100@gmail.com', '', 'Contato;Subscriptions', '2021-12-10 17:13', 'Assinou', '', '', 'Assinou o site', '2021-12-10 17:13', 'FormulÃ¡rio']\n",
      "['Elis Regina de Medeiros Queiroz', '', 'elisrmdequeiroz@gmail.com', '', 'Contato;Subscriptions', '2021-12-10 20:34', 'Assinou', '', '', 'Assinou o site', '2021-12-10 20:34', 'FormulÃ¡rio']\n",
      "['Vera', '', 'veralucia382016@gmail.com', '', 'Contato;Subscriptions', '2021-12-10 20:53', 'Assinou', '', '', 'Assinou o site', '2021-12-10 20:53', 'FormulÃ¡rio']\n",
      "['Marli', '', 'marlfsc@outlook.com', '', 'Contato;Subscriptions', '2021-12-10 21:25', 'Assinou', '', '', 'Assinou o site', '2021-12-10 21:25', 'FormulÃ¡rio']\n",
      "['\"\"', '', 'yurirayne2017@gmail.com', '', 'Contato;Subscriptions', '2021-12-11 06:16', 'Assinou', '', '', 'Assinou o site', '2021-12-11 06:16', 'FormulÃ¡rio']\n",
      "['Maria', '', 'ir.mss@hotmail.com', '', 'Contato;Subscriptions', '2021-12-11 11:07', 'Assinou', '', '', 'Assinou o site', '2021-12-11 11:07', 'FormulÃ¡rio']\n",
      "['Patricia', '', 'dederichs.silva@bol.com.br', '', 'Contato;Subscriptions', '2021-12-11 12:49', 'Assinou', '', '', 'Assinou o site', '2021-12-11 12:49', 'FormulÃ¡rio']\n",
      "['Ana Paula', '', 'santospaulinha452@gmail.com', '', 'Contato;Subscriptions', '2021-12-11 17:25', 'Assinou', '', '', 'Assinou o site', '2021-12-11 17:25', 'FormulÃ¡rio']\n",
      "['ADRIELLE CARDOSO', 'CLEMENTE', 'minha.propagacao@gmail.com', '67992722978', 'Clientes', '2021-12-14 23:37', 'Assinatura nÃ£o definida', '1.0', 'R$ 4.75', 'SolicitaÃ§Ã£o de membro do site', '2021-12-17 04:13', 'Wix Stores']\n",
      "['Luciana', 'Rocha Costa', 'lucianadecknes@gmail.com', '67992656973', 'Clientes', '2021-12-14 23:41', 'Assinatura nÃ£o definida', '1.0', 'R$ 4.75', 'Pagou uma fatura', '2021-12-14 23:50', 'Wix Stores']\n",
      "['Eliane', '', 'vidadojovemadulto@gmail.com', '', 'Contato;Subscriptions', '2021-12-20 21:54', 'Assinou', '', '', 'Assinou o site', '2021-12-20 21:57', 'FormulÃ¡rio']\n",
      "['']\n"
     ]
    }
   ],
   "source": [
    "#abrir arquivo sem biblioteca\n",
    "with open('contatos e-book cuidador.csv','r') as file:\n",
    "    linhas = file.read()\n",
    "    linhas = linhas.split('\\n')\n",
    "    for linha in linhas:\n",
    "        linha=linha.split(',')\n",
    "        print(linha)"
   ]
  },
  {
   "cell_type": "code",
   "execution_count": 8,
   "id": "f7a27a5f",
   "metadata": {},
   "outputs": [],
   "source": [
    "#criar um arquivo csv\n",
    "#o python fez quebra de linha com esse código\n",
    "import csv\n",
    "with open('userscv','w') as arquivousers:\n",
    "    escritor = csv.writer(arquivousers)\n",
    "    escritor.writerow(['nome','sobrenome','idade','genero'])\n",
    "    escritor.writerow(['Adrielle','Karine','27','Femenino'])"
   ]
  },
  {
   "cell_type": "code",
   "execution_count": 9,
   "id": "0b125cbe",
   "metadata": {},
   "outputs": [],
   "source": [
    "#para não ter quebra de linha uso -> newline=''\n",
    "with open('userscv','w',newline='') as arquivousers:\n",
    "    escritor = csv.writer(arquivousers)\n",
    "    escritor.writerow(['nome','sobrenome','idade','genero'])\n",
    "    escritor.writerow(['Adrielle','Karine','27','Femenino'])"
   ]
  },
  {
   "cell_type": "code",
   "execution_count": 18,
   "id": "9e686220",
   "metadata": {},
   "outputs": [
    {
     "name": "stdout",
     "output_type": "stream",
     "text": [
      "O que deseja fazer?\n",
      "1 - Cadastrar\n",
      "0 - Sair\n",
      "1\n",
      "Qual seu nome?Adrielle\n",
      "Qual seu sobrenome?Karine\n",
      "O que deseja fazer?\n",
      "1 - Cadastrar\n",
      "0 - Sair\n",
      "1\n",
      "Qual seu nome?Emma\n",
      "Qual seu sobrenome?Selvagem\n",
      "O que deseja fazer?\n",
      "1 - Cadastrar\n",
      "0 - Sair\n",
      "0\n",
      "[['Adrielle', 'Karine'], ['Emma', 'Selvagem']]\n",
      "['Nome', 'Sobrenome']\n",
      "[\"['Adrielle', 'Karine']\", \"['Emma', 'Selvagem']\"]\n"
     ]
    }
   ],
   "source": [
    "header = ['Nome', 'Sobrenome']\n",
    "dados=[]\n",
    "opc = input('O que deseja fazer?\\n1 - Cadastrar\\n0 - Sair\\n')\n",
    "while opc !='0':\n",
    "    nome = input(\"Qual seu nome?\")\n",
    "    sobrenome = input ('Qual seu sobrenome?')\n",
    "    dados.append([nome,sobrenome])\n",
    "    opc = input('O que deseja fazer?\\n1 - Cadastrar\\n0 - Sair\\n')\n",
    "\n",
    "print(dados)\n",
    "\n",
    "with open('userscv.csv','w', newline='') as arquivo_csv:\n",
    "    writer = csv.writer(arquivo_csv)\n",
    "    writer.writerow(header)\n",
    "    writer.writerow(dados)\n",
    "with open('userscv.csv','r') as file_leitura:\n",
    "    csv_leitor=csv.reader(file_leitura, delimiter=',')\n",
    "    for row in csv_leitor:\n",
    "        print(row)\n"
   ]
  },
  {
   "cell_type": "code",
   "execution_count": null,
   "id": "c9753584",
   "metadata": {},
   "outputs": [],
   "source": []
  }
 ],
 "metadata": {
  "kernelspec": {
   "display_name": "Python 3 (ipykernel)",
   "language": "python",
   "name": "python3"
  },
  "language_info": {
   "codemirror_mode": {
    "name": "ipython",
    "version": 3
   },
   "file_extension": ".py",
   "mimetype": "text/x-python",
   "name": "python",
   "nbconvert_exporter": "python",
   "pygments_lexer": "ipython3",
   "version": "3.10.4"
  }
 },
 "nbformat": 4,
 "nbformat_minor": 5
}
