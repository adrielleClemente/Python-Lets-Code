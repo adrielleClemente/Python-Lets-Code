{
 "cells": [
  {
   "cell_type": "code",
   "execution_count": 11,
   "id": "e2fc2848",
   "metadata": {},
   "outputs": [
    {
     "name": "stdout",
     "output_type": "stream",
     "text": [
      "pegar meus exames\n",
      "resenha de curtametragens = assistir de ManhÃ£.terminar de Tarde\n",
      "fazer lista de curtas = Num Domingo\n",
      "aprender a editar vÃ­deo e imagem = ManhÃ£ e Tarde\n",
      "violÃ£o erudito 2x semana 1h(dia) = depois do almoÃ§o\n",
      "ir a uma biblioteca escrever = depois do almoÃ§o\n",
      "\n",
      "escrever roteiro pra curta = trabalha nessa bagaÃ§a\n",
      "mandar mÃºsica pra Toco = de Noite\n",
      "calestenia 3X semana - 30 min = Antes de tomar banho\n",
      "InglÃªs 3X semana 1h(dia) = De manhÃ£\n",
      "ter mais paciÃªncia - Ã¡udio ajuda\n",
      "trabalhar/estudar atÃ© 23h(jÃ¡ q comeÃ§a 10h)\n",
      "ler material Ãºnica/prominas = Fim de Semana\n",
      "Ler material sobre ediÃ§Ã£o avmakers\n",
      "\n",
      "marketing da Andressa\n",
      "entrar em contato com o site LesB Out para colaborar\n",
      "E tbm pedir para q leiam seu conto\n",
      "\n"
     ]
    }
   ],
   "source": [
    "#arquivos simples usar o modo de letitura 'r'\n",
    "#por segurança todo aquivo aberto precisa ser fechado referenciando a variável do arquivo .close()\n",
    "arquivo = open('Desktop/quero.txt','r')\n",
    "texto = arquivo.read()\n",
    "print(texto)\n",
    "arquivo.close()"
   ]
  },
  {
   "cell_type": "code",
   "execution_count": 2,
   "id": "21f9dbdc",
   "metadata": {},
   "outputs": [
    {
     "name": "stdout",
     "output_type": "stream",
     "text": [
      "pegar meus exames\n",
      "resenha de curtametragens = assistir de ManhÃ£.terminar de Tarde\n",
      "fazer lista de curtas = Num Domingo\n",
      "aprender a editar vÃ­deo e imagem = ManhÃ£ e Tarde\n",
      "violÃ£o erudito 2x semana 1h(dia) = depois do almoÃ§o\n",
      "ir a uma biblioteca escrever = depois do almoÃ§o\n",
      "\n",
      "escrever roteiro pra curta = trabalha nessa bagaÃ§a\n",
      "mandar mÃºsica pra Toco = de Noite\n",
      "calestenia 3X semana - 30 min = Antes de tomar banho\n",
      "InglÃªs 3X semana 1h(dia) = De manhÃ£\n",
      "ter mais paciÃªncia - Ã¡udio ajuda\n",
      "trabalhar/estudar atÃ© 23h(jÃ¡ q comeÃ§a 10h)\n",
      "ler material Ãºnica/prominas = Fim de Semana\n",
      "Ler material sobre ediÃ§Ã£o avmakers\n",
      "\n",
      "marketing da Andressa\n",
      "entrar em contato com o site LesB Out para colaborar\n",
      "E tbm pedir para q leiam seu conto\n"
     ]
    }
   ],
   "source": [
    "#mesmo resultado pois utilizando o while o cursor passou de linha em linha.\n",
    "arquivo = open('Desktop/quero.txt','r')\n",
    "linha = arquivo.readline()\n",
    "while linha != '':\n",
    "    print(linha, end='')\n",
    "    linha = arquivo.readline()\n",
    "arquivo.close()"
   ]
  },
  {
   "cell_type": "code",
   "execution_count": 3,
   "id": "b0742cda",
   "metadata": {},
   "outputs": [
    {
     "name": "stdout",
     "output_type": "stream",
     "text": [
      "pegar meus exames\n",
      "resenha de curtametragens = assistir de ManhÃ£.terminar de Tarde\n",
      "fazer lista de curtas = Num Domingo\n",
      "aprender a editar vÃ­deo e imagem = ManhÃ£ e Tarde\n",
      "violÃ£o erudito 2x semana 1h(dia) = depois do almoÃ§o\n",
      "ir a uma biblioteca escrever = depois do almoÃ§o\n",
      "\n",
      "escrever roteiro pra curta = trabalha nessa bagaÃ§a\n",
      "mandar mÃºsica pra Toco = de Noite\n",
      "calestenia 3X semana - 30 min = Antes de tomar banho\n",
      "InglÃªs 3X semana 1h(dia) = De manhÃ£\n",
      "ter mais paciÃªncia - Ã¡udio ajuda\n",
      "trabalhar/estudar atÃ© 23h(jÃ¡ q comeÃ§a 10h)\n",
      "ler material Ãºnica/prominas = Fim de Semana\n",
      "Ler material sobre ediÃ§Ã£o avmakers\n",
      "\n",
      "marketing da Andressa\n",
      "entrar em contato com o site LesB Out para colaborar\n",
      "E tbm pedir para q leiam seu conto\n"
     ]
    }
   ],
   "source": [
    "arquivo = open('Desktop/quero.txt','r')\n",
    "for linha in arquivo:\n",
    "    print(linha, end='')\n",
    "arquivo.close()"
   ]
  },
  {
   "cell_type": "code",
   "execution_count": 6,
   "id": "8afe9af2",
   "metadata": {},
   "outputs": [
    {
     "name": "stdout",
     "output_type": "stream",
     "text": [
      "pegar meus exames\n",
      "resenha de curtametragens = assistir de ManhÃ£.terminar de Tarde\n",
      "fazer lista de curtas = Num Domingo\n",
      "aprender a editar vÃ­deo e imagem = ManhÃ£ e Tarde\n",
      "violÃ£o erudito 2x semana 1h(dia) = depois do almoÃ§o\n",
      "ir a uma biblioteca escrever = depois do almoÃ§o\n",
      "\n",
      "escrever roteiro pra curta = trabalha nessa bagaÃ§a\n",
      "mandar mÃºsica pra Toco = de Noite\n",
      "calestenia 3X semana - 30 min = Antes de tomar banho\n",
      "InglÃªs 3X semana 1h(dia) = De manhÃ£\n",
      "ter mais paciÃªncia - Ã¡udio ajuda\n",
      "trabalhar/estudar atÃ© 23h(jÃ¡ q comeÃ§a 10h)\n",
      "ler material Ãºnica/prominas = Fim de Semana\n",
      "Ler material sobre ediÃ§Ã£o avmakers\n",
      "\n",
      "marketing da Andressa\n",
      "entrar em contato com o site LesB Out para colaborar\n",
      "E tbm pedir para q leiam seu conto\n",
      "\n"
     ]
    }
   ],
   "source": [
    "#com with não precisa dar .close\n",
    "with open('Desktop/quero.txt','r') as arquivo:\n",
    "    texto = arquivo.read()\n",
    "    print(texto)"
   ]
  },
  {
   "cell_type": "code",
   "execution_count": 1,
   "id": "cb1eca58",
   "metadata": {},
   "outputs": [
    {
     "ename": "NameError",
     "evalue": "name 'arquivo' is not defined",
     "output_type": "error",
     "traceback": [
      "\u001b[1;31m---------------------------------------------------------------------------\u001b[0m",
      "\u001b[1;31mNameError\u001b[0m                                 Traceback (most recent call last)",
      "Input \u001b[1;32mIn [1]\u001b[0m, in \u001b[0;36m<cell line: 2>\u001b[1;34m()\u001b[0m\n\u001b[0;32m      1\u001b[0m \u001b[38;5;66;03m#erro pois o arquivo á está fechado, para usá-lo precisa abrir.\u001b[39;00m\n\u001b[1;32m----> 2\u001b[0m \u001b[43marquivo\u001b[49m\u001b[38;5;241m.\u001b[39mread()\n",
      "\u001b[1;31mNameError\u001b[0m: name 'arquivo' is not defined"
     ]
    }
   ],
   "source": [
    "# amostra de ERRO pois o arquivo á está fechado, para usá-lo precisa abrir.\n",
    "arquivo.read()"
   ]
  },
  {
   "cell_type": "code",
   "execution_count": 8,
   "id": "4a9f7c70",
   "metadata": {},
   "outputs": [],
   "source": [
    "#w para escrever\n",
    "with open('Desktop/quero.txt','w') as arquivo:\n",
    "    arquivo.write('Linha escrita no jupyter em python\\n')\n",
    "    arquivo.write('Segunda linha escrita no jupyter em python\\n')"
   ]
  },
  {
   "cell_type": "code",
   "execution_count": 9,
   "id": "dc666dba",
   "metadata": {},
   "outputs": [
    {
     "name": "stdout",
     "output_type": "stream",
     "text": [
      "Linha escrita no jupyter em python\n",
      "Segunda linha escrita no jupyter em python\n",
      "\n"
     ]
    }
   ],
   "source": [
    "with open('Desktop/quero.txt','r') as arquivo:\n",
    "    print(arquivo.read())"
   ]
  },
  {
   "cell_type": "code",
   "execution_count": 10,
   "id": "eb3c1085",
   "metadata": {},
   "outputs": [],
   "source": [
    "#a para adicionar\n",
    "with open('Desktop/quero.txt','a') as arquivo:\n",
    "    arquivo.write('Linha adicionada no jupyter em python\\n')"
   ]
  },
  {
   "cell_type": "code",
   "execution_count": 11,
   "id": "d8d3bb59",
   "metadata": {},
   "outputs": [
    {
     "name": "stdout",
     "output_type": "stream",
     "text": [
      "Linha escrita no jupyter em python\n",
      "Segunda linha escrita no jupyter em python\n",
      "Linha adicionada no jupyter em python\n",
      "\n"
     ]
    }
   ],
   "source": [
    "with open('Desktop/quero.txt','r') as arquivo:\n",
    "    print(arquivo.read())"
   ]
  },
  {
   "cell_type": "code",
   "execution_count": 13,
   "id": "a82815c2",
   "metadata": {},
   "outputs": [
    {
     "name": "stdout",
     "output_type": "stream",
     "text": [
      "Leitura de texto usada na atividade de Python\n"
     ]
    }
   ],
   "source": [
    "with open('teste.txt','r') as arquivo:\n",
    "    print(arquivo.read())"
   ]
  },
  {
   "cell_type": "code",
   "execution_count": 18,
   "id": "e08480e0",
   "metadata": {},
   "outputs": [],
   "source": [
    "with open('teste.txt','a') as arquivo:\n",
    "    arquivo.write('Linha adicionada através do jupyter em python\\n')"
   ]
  },
  {
   "cell_type": "code",
   "execution_count": 20,
   "id": "d50de36c",
   "metadata": {},
   "outputs": [
    {
     "name": "stdout",
     "output_type": "stream",
     "text": [
      "Leitura de texto usada na atividade de PythonLinha adicionada através do jupyter em pythonLinha adicionada através do jupyter em python\n"
     ]
    }
   ],
   "source": [
    "with open('teste.txt','r') as arquivo:\n",
    "    print(arquivo.read(),end='')"
   ]
  },
  {
   "cell_type": "code",
   "execution_count": null,
   "id": "467a9c22",
   "metadata": {},
   "outputs": [],
   "source": []
  }
 ],
 "metadata": {
  "kernelspec": {
   "display_name": "Python 3 (ipykernel)",
   "language": "python",
   "name": "python3"
  },
  "language_info": {
   "codemirror_mode": {
    "name": "ipython",
    "version": 3
   },
   "file_extension": ".py",
   "mimetype": "text/x-python",
   "name": "python",
   "nbconvert_exporter": "python",
   "pygments_lexer": "ipython3",
   "version": "3.10.4"
  }
 },
 "nbformat": 4,
 "nbformat_minor": 5
}
