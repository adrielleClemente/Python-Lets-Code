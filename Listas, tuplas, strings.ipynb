{
 "cells": [
  {
   "cell_type": "code",
   "execution_count": 6,
   "id": "ec9f4ac6",
   "metadata": {},
   "outputs": [
    {
     "name": "stdout",
     "output_type": "stream",
     "text": [
      "Tamnhao 5\n"
     ]
    }
   ],
   "source": [
    "nome_paises = ['Brasil', 'Argentina','China', 'Canadá','Japão']\n",
    "print('Tamnhao', len(nome_paises))"
   ]
  },
  {
   "cell_type": "code",
   "execution_count": 8,
   "id": "a7465487",
   "metadata": {},
   "outputs": [
    {
     "name": "stdout",
     "output_type": "stream",
     "text": [
      "País Japão\n"
     ]
    }
   ],
   "source": [
    "print('País', nome_paises[4])"
   ]
  },
  {
   "cell_type": "code",
   "execution_count": 7,
   "id": "337dc61e",
   "metadata": {},
   "outputs": [
    {
     "name": "stdout",
     "output_type": "stream",
     "text": [
      "País China\n"
     ]
    }
   ],
   "source": [
    "print( 'País', nome_paises[-3])"
   ]
  },
  {
   "cell_type": "code",
   "execution_count": 9,
   "id": "917d5c6f",
   "metadata": {},
   "outputs": [
    {
     "name": "stdout",
     "output_type": "stream",
     "text": [
      "Colômbia\n",
      "['Brasil', 'Argentina', 'China', 'Canadá', 'Colômbia']\n"
     ]
    }
   ],
   "source": [
    "nome_paises[4]='Colômbia'\n",
    "print(nome_paises[4])\n",
    "print(nome_paises)"
   ]
  },
  {
   "cell_type": "code",
   "execution_count": 13,
   "id": "e4a221ec",
   "metadata": {},
   "outputs": [
    {
     "name": "stdout",
     "output_type": "stream",
     "text": [
      "['Brasil', 'Argentina', 'China', 'Canadá', 'Colômbia']\n"
     ]
    }
   ],
   "source": [
    "print(nome_paises[0:])"
   ]
  },
  {
   "cell_type": "code",
   "execution_count": 14,
   "id": "30618a8f",
   "metadata": {},
   "outputs": [
    {
     "name": "stdout",
     "output_type": "stream",
     "text": [
      "['Brasil', 'Argentina', 'China', 'Canadá']\n"
     ]
    }
   ],
   "source": [
    "print(nome_paises[:-1])"
   ]
  },
  {
   "cell_type": "code",
   "execution_count": 15,
   "id": "6363f6e0",
   "metadata": {},
   "outputs": [
    {
     "name": "stdout",
     "output_type": "stream",
     "text": [
      "['Brasil']\n"
     ]
    }
   ],
   "source": [
    "print(nome_paises[0:-4])"
   ]
  },
  {
   "cell_type": "code",
   "execution_count": 16,
   "id": "41f25df3",
   "metadata": {},
   "outputs": [
    {
     "name": "stdout",
     "output_type": "stream",
     "text": [
      "['Brasil', 'Argentina', 'China', 'Canadá', 'Colômbia']\n"
     ]
    }
   ],
   "source": [
    "print(nome_paises[:])"
   ]
  },
  {
   "cell_type": "code",
   "execution_count": 17,
   "id": "15a63f87",
   "metadata": {},
   "outputs": [
    {
     "name": "stdout",
     "output_type": "stream",
     "text": [
      "['Brasil', 'Argentina', 'China', 'Canadá', 'Colômbia']\n"
     ]
    }
   ],
   "source": [
    "print(nome_paises[::1])"
   ]
  },
  {
   "cell_type": "code",
   "execution_count": 18,
   "id": "8d8ce77d",
   "metadata": {},
   "outputs": [
    {
     "name": "stdout",
     "output_type": "stream",
     "text": [
      "['Brasil', 'China', 'Colômbia']\n"
     ]
    }
   ],
   "source": [
    "print(nome_paises[::2])"
   ]
  },
  {
   "cell_type": "code",
   "execution_count": 19,
   "id": "0e04d8e6",
   "metadata": {},
   "outputs": [
    {
     "name": "stdout",
     "output_type": "stream",
     "text": [
      "['Colômbia', 'Canadá', 'China', 'Argentina', 'Brasil']\n"
     ]
    }
   ],
   "source": [
    "#assin inverte\n",
    "print(nome_paises[::-1])"
   ]
  },
  {
   "cell_type": "code",
   "execution_count": 20,
   "id": "8dbf50bd",
   "metadata": {},
   "outputs": [
    {
     "name": "stdout",
     "output_type": "stream",
     "text": [
      "True\n"
     ]
    }
   ],
   "source": [
    "print('Brasil' in nome_paises)"
   ]
  },
  {
   "cell_type": "code",
   "execution_count": 21,
   "id": "c4adcd2c",
   "metadata": {},
   "outputs": [
    {
     "name": "stdout",
     "output_type": "stream",
     "text": [
      "False\n"
     ]
    }
   ],
   "source": [
    "print('Argentina' not in nome_paises)"
   ]
  },
  {
   "cell_type": "code",
   "execution_count": 23,
   "id": "de60177e",
   "metadata": {},
   "outputs": [
    {
     "name": "stdout",
     "output_type": "stream",
     "text": [
      "['CG', 'PoA', 'SP', 'RJ', 'Salvador']\n"
     ]
    }
   ],
   "source": [
    "#colocar na lista\n",
    "capitais = []\n",
    "capitais.append('CG')\n",
    "capitais.append('PoA')\n",
    "capitais.append('SP')\n",
    "capitais.append('RJ')\n",
    "capitais.append('Salvador')\n",
    "print(capitais)"
   ]
  },
  {
   "cell_type": "code",
   "execution_count": 24,
   "id": "3b80acb1",
   "metadata": {
    "scrolled": true
   },
   "outputs": [
    {
     "name": "stdout",
     "output_type": "stream",
     "text": [
      "['CG', 'PoA', 'Paris', 'SP', 'RJ', 'Salvador']\n"
     ]
    }
   ],
   "source": [
    "#inserir na lista em pisicção indicada\n",
    "capitais.insert(2,'Paris')\n",
    "print(capitais)"
   ]
  },
  {
   "cell_type": "code",
   "execution_count": 26,
   "id": "8bdb7974",
   "metadata": {},
   "outputs": [
    {
     "name": "stdout",
     "output_type": "stream",
     "text": [
      "['CG', 'PoA', 'Paris', 'RJ', 'Salvador']\n"
     ]
    }
   ],
   "source": [
    "#remover da lista\n",
    "capitais.remove('SP')\n",
    "print(capitais)"
   ]
  },
  {
   "cell_type": "code",
   "execution_count": 31,
   "id": "de5a9aed",
   "metadata": {},
   "outputs": [
    {
     "name": "stdout",
     "output_type": "stream",
     "text": [
      "Salvador ['CG', 'PoA']\n"
     ]
    }
   ],
   "source": [
    "#n entendi pq removeu 'salvador'. no replit removeu a posição 2, aqui n.\n",
    "removido=capitais.pop(2)\n",
    "print(removido, capitais)"
   ]
  },
  {
   "cell_type": "code",
   "execution_count": null,
   "id": "a1f2f8b6",
   "metadata": {},
   "outputs": [],
   "source": [
    "#Aqui começa tuplas. diferença é a flexibilidade.\n",
    "#Na tupla n da pra afazer alteração dos valores dentro dela.\n"
   ]
  },
  {
   "cell_type": "code",
   "execution_count": 32,
   "id": "b9afa973",
   "metadata": {},
   "outputs": [
    {
     "name": "stdout",
     "output_type": "stream",
     "text": [
      "('Brasil', 'Argentina', 'China', 'Japão') <class 'tuple'>\n"
     ]
    }
   ],
   "source": [
    "#isso é uma tupla\n",
    "paises=('Brasil','Argentina','China','Japão')\n",
    "print(paises,type(paises))"
   ]
  },
  {
   "cell_type": "code",
   "execution_count": 33,
   "id": "caddafe9",
   "metadata": {},
   "outputs": [
    {
     "name": "stdout",
     "output_type": "stream",
     "text": [
      "('Ms',) <class 'tuple'>\n"
     ]
    }
   ],
   "source": [
    "estado='Ms',\n",
    "print(estado,type(estado))"
   ]
  },
  {
   "cell_type": "code",
   "execution_count": 34,
   "id": "2e8d333d",
   "metadata": {},
   "outputs": [
    {
     "name": "stdout",
     "output_type": "stream",
     "text": [
      "Brasil Argentina Japão\n"
     ]
    }
   ],
   "source": [
    "#unpack\n",
    "a,b,c,d = paises\n",
    "print(a,b,d)"
   ]
  },
  {
   "cell_type": "code",
   "execution_count": 35,
   "id": "5c3545c9",
   "metadata": {},
   "outputs": [
    {
     "name": "stdout",
     "output_type": "stream",
     "text": [
      "Brasil Argentina China Japão\n"
     ]
    }
   ],
   "source": [
    "#tbm é unpack-inprimi a tupla paises sem a estrutura \n",
    "print(*paises)"
   ]
  },
  {
   "cell_type": "code",
   "execution_count": 37,
   "id": "37ce1180",
   "metadata": {},
   "outputs": [
    {
     "name": "stdout",
     "output_type": "stream",
     "text": [
      "Let's Code\n",
      "Beba 2 copos d'água\n"
     ]
    }
   ],
   "source": [
    "#dica sobre aspas\n",
    "frase = \"Let's Code\"\n",
    "habito = \"Beba 2 copos d'água\"\n",
    "print(frase)\n",
    "print(habito)"
   ]
  },
  {
   "cell_type": "code",
   "execution_count": 38,
   "id": "eb9211c6",
   "metadata": {},
   "outputs": [
    {
     "name": "stdout",
     "output_type": "stream",
     "text": [
      " O teórico Pitro N'apollo disse:\"Hoje tem pizza\"\n"
     ]
    }
   ],
   "source": [
    "#caracter de escape para frase que teria aspas simples e duplas\n",
    "citacao = \" O teórico Pitro N'apollo disse:\\\"Hoje tem pizza\\\"\"\n",
    "print(citacao)"
   ]
  },
  {
   "cell_type": "code",
   "execution_count": 39,
   "id": "62e77b10",
   "metadata": {},
   "outputs": [
    {
     "name": "stdout",
     "output_type": "stream",
     "text": [
      "G\n"
     ]
    }
   ],
   "source": [
    "empresa = 'Google'\n",
    "print(empresa[0])"
   ]
  },
  {
   "cell_type": "code",
   "execution_count": 40,
   "id": "72778b97",
   "metadata": {},
   "outputs": [
    {
     "name": "stdout",
     "output_type": "stream",
     "text": [
      "Goo\n"
     ]
    }
   ],
   "source": [
    "empresa = 'Google'\n",
    "print(empresa[:3])"
   ]
  },
  {
   "cell_type": "code",
   "execution_count": 44,
   "id": "42af0dcc",
   "metadata": {},
   "outputs": [
    {
     "name": "stdout",
     "output_type": "stream",
     "text": [
      "['cg', 'rio', 'brasília', 'salvador', 'paris']\n"
     ]
    }
   ],
   "source": [
    "cidade = \"cg, rio, brasília, salvador, paris\"\n",
    "cidade = cidade.split(', ')\n",
    "print(cidade)"
   ]
  },
  {
   "cell_type": "code",
   "execution_count": 45,
   "id": "a185d0a0",
   "metadata": {},
   "outputs": [
    {
     "name": "stdout",
     "output_type": "stream",
     "text": [
      "               menu principal            \n",
      "menu principal\n"
     ]
    }
   ],
   "source": [
    "#strip\n",
    "cabecalho = '               menu principal            '\n",
    "print(cabecalho)\n",
    "print(cabecalho.strip())"
   ]
  },
  {
   "cell_type": "code",
   "execution_count": 1,
   "id": "4d4a40e6",
   "metadata": {},
   "outputs": [
    {
     "name": "stdout",
     "output_type": "stream",
     "text": [
      "Campo Grande\n",
      "Campo grande\n",
      "campo grande\n",
      "CAMPO GRANDE\n"
     ]
    }
   ],
   "source": [
    "mycity = 'cAmPo gRanDE'\n",
    "print(mycity.title())\n",
    "print(mycity.capitalize())\n",
    "print(mycity.lower())\n",
    "print(mycity.upper())"
   ]
  },
  {
   "cell_type": "code",
   "execution_count": 2,
   "id": "dda187b1",
   "metadata": {},
   "outputs": [
    {
     "name": "stdout",
     "output_type": "stream",
     "text": [
      "Que cidade é conhecida como cidade Morenasão paulo\n",
      "Tenta de novo\n",
      "Que cidade é conhecida como cidade MorenaCampo Grande\n",
      "Booa, você acertou!\n"
     ]
    }
   ],
   "source": [
    "cidade = input('Que cidade é conhecida como cidade Morena')\n",
    "cidade = cidade.strip()\n",
    "while cidade.lower()!= 'campo grande':\n",
    "    print('Tenta de novo')\n",
    "    cidade = input('Que cidade é conhecida como cidade Morena')\n",
    "print('Booa, você acertou!')"
   ]
  },
  {
   "cell_type": "code",
   "execution_count": 3,
   "id": "c3720f01",
   "metadata": {
    "scrolled": true
   },
   "outputs": [
    {
     "name": "stdout",
     "output_type": "stream",
     "text": [
      "True\n"
     ]
    }
   ],
   "source": [
    "mensagem = 'Você viu o que o Pietro disse?'\n",
    "citado = 'Pietro' in mensagem\n",
    "print(citado)"
   ]
  },
  {
   "cell_type": "code",
   "execution_count": 6,
   "id": "ba31d4f5",
   "metadata": {},
   "outputs": [
    {
     "name": "stdout",
     "output_type": "stream",
     "text": [
      "Adrielle Adrielle Adrielle \n"
     ]
    }
   ],
   "source": [
    "nome = 'Adrielle '\n",
    "print(nome*3)"
   ]
  },
  {
   "cell_type": "code",
   "execution_count": 9,
   "id": "84c3f697",
   "metadata": {},
   "outputs": [
    {
     "name": "stdout",
     "output_type": "stream",
     "text": [
      "Adrielle tem 27 anos e 3 pets\n"
     ]
    }
   ],
   "source": [
    "idade = 27\n",
    "pets = 3\n",
    "print(nome + 'tem ' + str(idade)+ ' anos e '+ str(pets) +' pets')"
   ]
  },
  {
   "cell_type": "code",
   "execution_count": 10,
   "id": "bd9c8cc8",
   "metadata": {},
   "outputs": [
    {
     "name": "stdout",
     "output_type": "stream",
     "text": [
      "Adrielle  tem 27 anos e 3 pets\n"
     ]
    }
   ],
   "source": [
    "#método format\n",
    "print('{} tem {} anos e {} pets'.format(nome,idade,pets))"
   ]
  },
  {
   "cell_type": "code",
   "execution_count": 11,
   "id": "fe461774",
   "metadata": {},
   "outputs": [
    {
     "name": "stdout",
     "output_type": "stream",
     "text": [
      "O preço da gasolina está R$ 3.48\n"
     ]
    }
   ],
   "source": [
    "gasolina = 3.476\n",
    "print('O preço da gasolina está R$ {:.2f}'.format(gasolina))"
   ]
  },
  {
   "cell_type": "code",
   "execution_count": 12,
   "id": "cf156a66",
   "metadata": {},
   "outputs": [
    {
     "name": "stdout",
     "output_type": "stream",
     "text": [
      "Adrielle  tem 27 anos e 3 pets.\n"
     ]
    }
   ],
   "source": [
    "print(f'{nome} tem {idade} anos e {pets} pets.')"
   ]
  },
  {
   "cell_type": "code",
   "execution_count": null,
   "id": "6b0040e4",
   "metadata": {},
   "outputs": [],
   "source": []
  }
 ],
 "metadata": {
  "kernelspec": {
   "display_name": "Python 3 (ipykernel)",
   "language": "python",
   "name": "python3"
  },
  "language_info": {
   "codemirror_mode": {
    "name": "ipython",
    "version": 3
   },
   "file_extension": ".py",
   "mimetype": "text/x-python",
   "name": "python",
   "nbconvert_exporter": "python",
   "pygments_lexer": "ipython3",
   "version": "3.10.4"
  }
 },
 "nbformat": 4,
 "nbformat_minor": 5
}
