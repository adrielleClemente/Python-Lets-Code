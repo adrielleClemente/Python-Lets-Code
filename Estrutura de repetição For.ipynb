{
 "cells": [
  {
   "cell_type": "code",
   "execution_count": 3,
   "id": "c8f67594",
   "metadata": {},
   "outputs": [
    {
     "name": "stdout",
     "output_type": "stream",
     "text": [
      "B\n",
      "A\n",
      "H\n",
      "J\n",
      "E\n"
     ]
    }
   ],
   "source": [
    "#sem querer imprimir posição de caractere de cada string kkk\n",
    "paises = ['Brasil','Argentina','Holanda','Japão','Espanha']\n",
    "for i in paises:\n",
    "    print(i[0])"
   ]
  },
  {
   "cell_type": "code",
   "execution_count": 4,
   "id": "8c217f2c",
   "metadata": {},
   "outputs": [
    {
     "name": "stdout",
     "output_type": "stream",
     "text": [
      "Brasil\n",
      "Argentina\n",
      "Holanda\n",
      "Japão\n",
      "Espanha\n"
     ]
    }
   ],
   "source": [
    "paises = ['Brasil','Argentina','Holanda','Japão','Espanha']\n",
    "for i in paises:\n",
    "    print(i)"
   ]
  },
  {
   "cell_type": "code",
   "execution_count": 5,
   "id": "4e713821",
   "metadata": {},
   "outputs": [
    {
     "name": "stdout",
     "output_type": "stream",
     "text": [
      "Brasil\n"
     ]
    }
   ],
   "source": [
    "paises = ['Brasil','Argentina','Holanda','Japão','Espanha']\n",
    "print(paises[0])"
   ]
  },
  {
   "cell_type": "code",
   "execution_count": 8,
   "id": "d8f8d776",
   "metadata": {},
   "outputs": [
    {
     "name": "stdout",
     "output_type": "stream",
     "text": [
      "Brasil\n",
      "Argentina\n",
      "Holanda\n",
      "Japão\n",
      "Espanha\n"
     ]
    }
   ],
   "source": [
    "#mesma lista com while.\n",
    "contador = 0\n",
    "paises = ['Brasil','Argentina','Holanda','Japão','Espanha']\n",
    "while contador < len(paises):\n",
    "    print(paises[contador])\n",
    "    contador=contador+1\n"
   ]
  },
  {
   "cell_type": "code",
   "execution_count": 9,
   "id": "f9eface8",
   "metadata": {},
   "outputs": [
    {
     "name": "stdout",
     "output_type": "stream",
     "text": [
      "Brasil\n",
      "Argentina\n",
      "Holanda\n",
      "Japão\n",
      "Espanha\n"
     ]
    }
   ],
   "source": [
    "#com tupla(imprime o mesmo que lista)\n",
    "paises ='Brasil','Argentina','Holanda','Japão','Espanha'\n",
    "for i in paises:\n",
    "    print(i)"
   ]
  },
  {
   "cell_type": "code",
   "execution_count": 19,
   "id": "37e878f0",
   "metadata": {},
   "outputs": [
    {
     "name": "stdout",
     "output_type": "stream",
     "text": [
      "Nome:Campo Grande\n",
      "Estado:Mato Grosso do Sul\n",
      "Populacao:800000\n"
     ]
    }
   ],
   "source": [
    "#em dicionário\n",
    "dados = {\n",
    "    'Nome':'Campo Grande',\n",
    "    'Estado':'Mato Grosso do Sul',\n",
    "    'Populacao':800000\n",
    "}\n",
    "for chave in dados:\n",
    "    print(f'{chave}:{dados[chave]}')"
   ]
  },
  {
   "cell_type": "code",
   "execution_count": 23,
   "id": "83a80716",
   "metadata": {},
   "outputs": [
    {
     "name": "stdout",
     "output_type": "stream",
     "text": [
      "0\n",
      "1\n",
      "2\n"
     ]
    }
   ],
   "source": [
    "#range usando len para recuperar uma lista\n",
    "dados = {\n",
    "    'Nome':'Campo Grande',\n",
    "    'Estado':'Mato Grosso do Sul',\n",
    "    'Populacao':800000\n",
    "}\n",
    "for i in range(len(dados)):\n",
    "    print(i)"
   ]
  },
  {
   "cell_type": "code",
   "execution_count": 25,
   "id": "75a98166",
   "metadata": {},
   "outputs": [
    {
     "name": "stdout",
     "output_type": "stream",
     "text": [
      "0\n",
      "1\n",
      "2\n",
      "3\n",
      "4\n"
     ]
    }
   ],
   "source": [
    "paises ='Brasil','Argentina','Holanda','Japão','Espanha'\n",
    "for i in range(len(paises)):\n",
    "    print(i)"
   ]
  },
  {
   "cell_type": "code",
   "execution_count": 32,
   "id": "e36d9f1e",
   "metadata": {},
   "outputs": [
    {
     "name": "stdout",
     "output_type": "stream",
     "text": [
      "['Bogotá', 'Bogotá', 'Bogotá', 'Bogotá', 'Bogotá']\n"
     ]
    }
   ],
   "source": [
    "paises =['Brasil','Argentina','Holanda','Japão','Espanha']\n",
    "for i in range(len(paises)):\n",
    "    paises[i]='Bogotá'\n",
    "print(paises)"
   ]
  },
  {
   "cell_type": "code",
   "execution_count": 36,
   "id": "4ba14e63",
   "metadata": {},
   "outputs": [
    {
     "name": "stdout",
     "output_type": "stream",
     "text": [
      "[0, 1, 2, 3, 4, 5, 6, 7, 8, 9, 10]\n",
      "[-1, 0, 1, 2, 3, 4, 5, 6, 7, 8, 9]\n",
      "[2, 4, 6, 8]\n"
     ]
    }
   ],
   "source": [
    "print(list(range(10+1)))\n",
    "print(list(range(0-1,10)))\n",
    "print(list(range(2,10,2)))"
   ]
  },
  {
   "cell_type": "code",
   "execution_count": null,
   "id": "31e5c5a7",
   "metadata": {},
   "outputs": [],
   "source": []
  }
 ],
 "metadata": {
  "kernelspec": {
   "display_name": "Python 3 (ipykernel)",
   "language": "python",
   "name": "python3"
  },
  "language_info": {
   "codemirror_mode": {
    "name": "ipython",
    "version": 3
   },
   "file_extension": ".py",
   "mimetype": "text/x-python",
   "name": "python",
   "nbconvert_exporter": "python",
   "pygments_lexer": "ipython3",
   "version": "3.10.4"
  }
 },
 "nbformat": 4,
 "nbformat_minor": 5
}
