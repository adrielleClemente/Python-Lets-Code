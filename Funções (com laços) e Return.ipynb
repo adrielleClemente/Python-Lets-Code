{
 "cells": [
  {
   "cell_type": "code",
   "execution_count": 1,
   "id": "d0b40ade",
   "metadata": {},
   "outputs": [],
   "source": [
    "def hallo():\n",
    "    print('Olá,mundo!')"
   ]
  },
  {
   "cell_type": "code",
   "execution_count": 3,
   "id": "54fefc44",
   "metadata": {},
   "outputs": [
    {
     "name": "stdout",
     "output_type": "stream",
     "text": [
      "Olá,mundo!\n"
     ]
    }
   ],
   "source": [
    "hallo()"
   ]
  },
  {
   "cell_type": "code",
   "execution_count": 6,
   "id": "50f04580",
   "metadata": {},
   "outputs": [],
   "source": [
    "def calculamedia(a,b,c):\n",
    "    media = (a+b+c)/3\n",
    "    return media"
   ]
  },
  {
   "cell_type": "code",
   "execution_count": 7,
   "id": "9ba4a6b1",
   "metadata": {},
   "outputs": [
    {
     "name": "stdout",
     "output_type": "stream",
     "text": [
      "8.0\n"
     ]
    }
   ],
   "source": [
    "resultado=calculamedia(5,9,10)\n",
    "print(resultado)"
   ]
  },
  {
   "cell_type": "code",
   "execution_count": 9,
   "id": "ed6a2294",
   "metadata": {},
   "outputs": [
    {
     "name": "stdout",
     "output_type": "stream",
     "text": [
      "7.666666666666667\n"
     ]
    }
   ],
   "source": [
    "resultado2=calculamedia(a=6,b=8,c=9)\n",
    "print(resultado2)"
   ]
  },
  {
   "cell_type": "code",
   "execution_count": 13,
   "id": "4556aea5",
   "metadata": {},
   "outputs": [],
   "source": [
    "#usando laço\n",
    "lista=[1,2,3,4,5,6]\n",
    "def somalista(lista):\n",
    "    soma=0\n",
    "    for i in lista:\n",
    "        soma=soma+i\n",
    "    print(soma)"
   ]
  },
  {
   "cell_type": "code",
   "execution_count": 14,
   "id": "5663daef",
   "metadata": {},
   "outputs": [
    {
     "name": "stdout",
     "output_type": "stream",
     "text": [
      "21\n"
     ]
    }
   ],
   "source": [
    "somalista(lista)"
   ]
  },
  {
   "cell_type": "code",
   "execution_count": 15,
   "id": "8bfd4528",
   "metadata": {},
   "outputs": [],
   "source": [
    "#criei uma nova lista\n",
    "nova_lista= list(range(1,26))"
   ]
  },
  {
   "cell_type": "code",
   "execution_count": 16,
   "id": "b7b00657",
   "metadata": {},
   "outputs": [
    {
     "name": "stdout",
     "output_type": "stream",
     "text": [
      "325\n"
     ]
    }
   ],
   "source": [
    "#usei a nova lista como parâmetro para a função existente\n",
    "somalista(nova_lista)"
   ]
  },
  {
   "cell_type": "code",
   "execution_count": 19,
   "id": "4684caac",
   "metadata": {},
   "outputs": [],
   "source": [
    "def media (a,b,c):\n",
    "    return (a+b+c)/3\n"
   ]
  },
  {
   "cell_type": "code",
   "execution_count": 20,
   "id": "0a8f23b5",
   "metadata": {},
   "outputs": [
    {
     "data": {
      "text/plain": [
       "7.666666666666667"
      ]
     },
     "execution_count": 20,
     "metadata": {},
     "output_type": "execute_result"
    }
   ],
   "source": [
    "media(5,10,8)"
   ]
  },
  {
   "cell_type": "code",
   "execution_count": 21,
   "id": "a08704ea",
   "metadata": {},
   "outputs": [],
   "source": [
    "#quro apenas que retorne\n",
    "def media (a,b,c):\n",
    "    return (a+b+c)/3\n",
    "def aprovacao(a,b,c):\n",
    "    x = media(a,b,c)\n",
    "    if x >= 6.0:\n",
    "        print('Aprovade')\n",
    "    else:\n",
    "        print('Reprovade')"
   ]
  },
  {
   "cell_type": "code",
   "execution_count": 23,
   "id": "6555449a",
   "metadata": {},
   "outputs": [
    {
     "name": "stdout",
     "output_type": "stream",
     "text": [
      "Aprovade\n"
     ]
    }
   ],
   "source": [
    "aprovacao(10,3,10)"
   ]
  },
  {
   "cell_type": "code",
   "execution_count": 24,
   "id": "e9b7d9de",
   "metadata": {},
   "outputs": [
    {
     "name": "stdout",
     "output_type": "stream",
     "text": [
      "Reprovade\n"
     ]
    }
   ],
   "source": [
    "aprovacao(6,5,6.5)"
   ]
  },
  {
   "cell_type": "code",
   "execution_count": 27,
   "id": "85a4d333",
   "metadata": {},
   "outputs": [
    {
     "name": "stdout",
     "output_type": "stream",
     "text": [
      "Olá Adrielle\n"
     ]
    }
   ],
   "source": [
    "print('Olá',end=' ')\n",
    "print('Adrielle')"
   ]
  },
  {
   "cell_type": "code",
   "execution_count": 29,
   "id": "02c0b5dd",
   "metadata": {},
   "outputs": [],
   "source": [
    "#com valor default\n",
    "def calcula_media(v1=0,v2=0,v3=0):\n",
    "    valores=(v1+v2+v3)/3\n",
    "    return valores"
   ]
  },
  {
   "cell_type": "code",
   "execution_count": 30,
   "id": "033cce69",
   "metadata": {},
   "outputs": [
    {
     "name": "stdout",
     "output_type": "stream",
     "text": [
      "0.0\n"
     ]
    }
   ],
   "source": [
    "resul=calcula_media()\n",
    "print(resul)"
   ]
  },
  {
   "cell_type": "code",
   "execution_count": null,
   "id": "6d8efc45",
   "metadata": {},
   "outputs": [],
   "source": []
  }
 ],
 "metadata": {
  "kernelspec": {
   "display_name": "Python 3 (ipykernel)",
   "language": "python",
   "name": "python3"
  },
  "language_info": {
   "codemirror_mode": {
    "name": "ipython",
    "version": 3
   },
   "file_extension": ".py",
   "mimetype": "text/x-python",
   "name": "python",
   "nbconvert_exporter": "python",
   "pygments_lexer": "ipython3",
   "version": "3.10.4"
  }
 },
 "nbformat": 4,
 "nbformat_minor": 5
}
