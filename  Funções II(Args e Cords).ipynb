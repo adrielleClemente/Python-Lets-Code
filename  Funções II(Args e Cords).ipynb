{
 "cells": [
  {
   "cell_type": "code",
   "execution_count": 1,
   "id": "581526b6",
   "metadata": {},
   "outputs": [],
   "source": [
    "def calcula(a,b,c):\n",
    "    media=(a+b+c)/3\n",
    "    return media"
   ]
  },
  {
   "cell_type": "code",
   "execution_count": 2,
   "id": "ee34e4dc",
   "metadata": {},
   "outputs": [],
   "source": [
    "#ultilização de 'args' é uma convenção, pois pode ser usado outras palavras.\n",
    "#a função abaixo está dizendo q os parâmetro dados a cimaagora fazer parte do 'args'.\n",
    "def calcula(*args):\n",
    "    print(args, type(args))"
   ]
  },
  {
   "cell_type": "code",
   "execution_count": 3,
   "id": "78c2041d",
   "metadata": {},
   "outputs": [
    {
     "name": "stdout",
     "output_type": "stream",
     "text": [
      "(10, 8, 9) <class 'tuple'>\n"
     ]
    }
   ],
   "source": [
    "calcula(10,8,9)"
   ]
  },
  {
   "cell_type": "code",
   "execution_count": 5,
   "id": "976cc1fd",
   "metadata": {},
   "outputs": [],
   "source": [
    "#usando função de soma(sum) e len(tamanho da tupla que foi retornada)\n",
    "def calcula(*args):\n",
    "    soma=sum(args)\n",
    "    media = soma/len(args)\n",
    "    return media"
   ]
  },
  {
   "cell_type": "code",
   "execution_count": 6,
   "id": "895f17ce",
   "metadata": {},
   "outputs": [
    {
     "data": {
      "text/plain": [
       "9.0"
      ]
     },
     "execution_count": 6,
     "metadata": {},
     "output_type": "execute_result"
    }
   ],
   "source": [
    "calcula(10,8,9)"
   ]
  },
  {
   "cell_type": "code",
   "execution_count": 11,
   "id": "796a193e",
   "metadata": {},
   "outputs": [],
   "source": [
    "#colocando um novo parâmetro e adicionando ao return\n",
    "def calcula(*args,margem):\n",
    "    soma=sum(args)\n",
    "    media = soma/len(args)\n",
    "    return media + margem"
   ]
  },
  {
   "cell_type": "code",
   "execution_count": 12,
   "id": "08010cd1",
   "metadata": {},
   "outputs": [
    {
     "data": {
      "text/plain": [
       "9.4"
      ]
     },
     "execution_count": 12,
     "metadata": {},
     "output_type": "execute_result"
    }
   ],
   "source": [
    "calcula(10,8,9,margem=0.4)"
   ]
  },
  {
   "cell_type": "code",
   "execution_count": 13,
   "id": "08b8ac55",
   "metadata": {},
   "outputs": [],
   "source": [
    "#CORDS usar kwargs tbm é convenção. o ** tranforma em dicionário, dando o par chave valor.\n",
    "\n",
    "def info (**kwargs):\n",
    "    print(kwargs, type(kwargs))"
   ]
  },
  {
   "cell_type": "code",
   "execution_count": 14,
   "id": "ab385a67",
   "metadata": {},
   "outputs": [
    {
     "name": "stdout",
     "output_type": "stream",
     "text": [
      "{'nome': 'Adrielle', 'sobrenome': 'Karine'} <class 'dict'>\n"
     ]
    }
   ],
   "source": [
    "info(nome='Adrielle', sobrenome='Karine')"
   ]
  },
  {
   "cell_type": "code",
   "execution_count": null,
   "id": "affe1dc2",
   "metadata": {},
   "outputs": [],
   "source": []
  }
 ],
 "metadata": {
  "kernelspec": {
   "display_name": "Python 3 (ipykernel)",
   "language": "python",
   "name": "python3"
  },
  "language_info": {
   "codemirror_mode": {
    "name": "ipython",
    "version": 3
   },
   "file_extension": ".py",
   "mimetype": "text/x-python",
   "name": "python",
   "nbconvert_exporter": "python",
   "pygments_lexer": "ipython3",
   "version": "3.10.4"
  }
 },
 "nbformat": 4,
 "nbformat_minor": 5
}
