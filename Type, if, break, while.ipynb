{
 "cells": [
  {
   "cell_type": "code",
   "execution_count": 1,
   "id": "a74bf24d",
   "metadata": {},
   "outputs": [
    {
     "name": "stdout",
     "output_type": "stream",
     "text": [
      "Hallo World\n"
     ]
    }
   ],
   "source": [
    "print('Hallo World')"
   ]
  },
  {
   "cell_type": "code",
   "execution_count": 2,
   "id": "6949c0cf",
   "metadata": {},
   "outputs": [
    {
     "name": "stdout",
     "output_type": "stream",
     "text": [
      "5\n"
     ]
    }
   ],
   "source": [
    "x=5\n",
    "print(x)"
   ]
  },
  {
   "cell_type": "code",
   "execution_count": 3,
   "id": "56a5621d",
   "metadata": {},
   "outputs": [
    {
     "name": "stdout",
     "output_type": "stream",
     "text": [
      "<class 'int'>\n"
     ]
    }
   ],
   "source": [
    "print(type(x))\n"
   ]
  },
  {
   "cell_type": "code",
   "execution_count": 5,
   "id": "06de6994",
   "metadata": {},
   "outputs": [
    {
     "name": "stdout",
     "output_type": "stream",
     "text": [
      "<class 'float'>\n"
     ]
    }
   ],
   "source": [
    "preco=15.30\n",
    "print(type(preco))"
   ]
  },
  {
   "cell_type": "code",
   "execution_count": 6,
   "id": "166e0327",
   "metadata": {},
   "outputs": [
    {
     "name": "stdout",
     "output_type": "stream",
     "text": [
      "<class 'bool'>\n"
     ]
    }
   ],
   "source": [
    "n = True\n",
    "print(type(n))"
   ]
  },
  {
   "cell_type": "code",
   "execution_count": 7,
   "id": "c5fc6be7",
   "metadata": {},
   "outputs": [
    {
     "name": "stdout",
     "output_type": "stream",
     "text": [
      "<class 'str'>\n"
     ]
    }
   ],
   "source": [
    "pal='adrielle'\n",
    "print(type(pal))"
   ]
  },
  {
   "cell_type": "code",
   "execution_count": 1,
   "id": "c0905cf4",
   "metadata": {},
   "outputs": [
    {
     "name": "stdout",
     "output_type": "stream",
     "text": [
      "125000\n",
      "16\n",
      "2\n",
      "53\n",
      "47\n",
      "150\n",
      "16.666666666666668\n"
     ]
    }
   ],
   "source": [
    "x= 50\n",
    "y= 3\n",
    "print(x**y)\n",
    "print(x//y)\n",
    "print(x%y)\n",
    "print(x+y)\n",
    "print(x-y)\n",
    "print(x*y)\n",
    "print(x/y)"
   ]
  },
  {
   "cell_type": "code",
   "execution_count": 11,
   "id": "ab32fc7c",
   "metadata": {},
   "outputs": [
    {
     "name": "stdout",
     "output_type": "stream",
     "text": [
      "False\n"
     ]
    }
   ],
   "source": [
    "tem_cafe=True\n",
    "tem_pao=False\n",
    "print(not tem_cafe)"
   ]
  },
  {
   "cell_type": "code",
   "execution_count": 16,
   "id": "b25c27dd",
   "metadata": {},
   "outputs": [
    {
     "name": "stdout",
     "output_type": "stream",
     "text": [
      "True\n",
      "False\n",
      "False\n",
      "True\n",
      "False\n",
      "True\n"
     ]
    }
   ],
   "source": [
    "dolar = 5.3\n",
    "real = 1\n",
    "print(dolar > real)\n",
    "print(dolar<real)\n",
    "print(dolar==real)\n",
    "print(dolar>=real)\n",
    "print(dolar<=real)\n",
    "print(dolar!=real)"
   ]
  },
  {
   "cell_type": "code",
   "execution_count": 18,
   "id": "e080e071",
   "metadata": {},
   "outputs": [
    {
     "name": "stdout",
     "output_type": "stream",
     "text": [
      "Escreva seu nome: Dri\n",
      "Seu sobrenome: Ka\n"
     ]
    }
   ],
   "source": [
    "nome=str(input('Escreva seu nome: '))\n",
    "sobrenome=str(input('Seu sobrenome: '))\n",
    "print=(nome + sobrenome)"
   ]
  },
  {
   "cell_type": "code",
   "execution_count": 2,
   "id": "ac7a731f",
   "metadata": {},
   "outputs": [
    {
     "name": "stdout",
     "output_type": "stream",
     "text": [
      "Informe sua Idade: 18\n",
      "18 <class 'int'>\n"
     ]
    }
   ],
   "source": [
    "idade = input('Informe sua Idade: ')\n",
    "idade = int(idade)\n",
    "print(idade, type(idade))\n"
   ]
  },
  {
   "cell_type": "code",
   "execution_count": 3,
   "id": "31b9c90e",
   "metadata": {},
   "outputs": [
    {
     "name": "stdout",
     "output_type": "stream",
     "text": [
      "Sua Idade: 18\n",
      "18\n"
     ]
    }
   ],
   "source": [
    "idade = int(input('Sua Idade: '))\n",
    "print (idade)\n"
   ]
  },
  {
   "cell_type": "code",
   "execution_count": 6,
   "id": "f3c1268f",
   "metadata": {},
   "outputs": [
    {
     "name": "stdout",
     "output_type": "stream",
     "text": [
      "Informe sua idade: 20\n",
      "20 <class 'str'>\n"
     ]
    }
   ],
   "source": [
    "idade = input('Informe sua idade: ')\n",
    "print(idade,type(idade))\n"
   ]
  },
  {
   "cell_type": "code",
   "execution_count": 7,
   "id": "64ad7372",
   "metadata": {},
   "outputs": [
    {
     "name": "stdout",
     "output_type": "stream",
     "text": [
      "123.25\n",
      "123.25\n",
      "False\n",
      "True\n",
      "False\n",
      "True\n",
      "258\n",
      "123\n"
     ]
    }
   ],
   "source": [
    "print(float('123.25'))\n",
    "print(str(123.25))\n",
    "print(bool(''))\n",
    "print(bool('abc'))\n",
    "print(bool(0))\n",
    "print(bool(-2))\n",
    "print(int('258'))\n",
    "print(int(123.6))"
   ]
  },
  {
   "cell_type": "code",
   "execution_count": 8,
   "id": "1422fffb",
   "metadata": {
    "scrolled": false
   },
   "outputs": [
    {
     "name": "stdout",
     "output_type": "stream",
     "text": [
      "Digite o salário: 3000\n",
      "Gasto mensal: 1000\n",
      "Sua econmia ao fim do ano:  24000.0\n"
     ]
    }
   ],
   "source": [
    "salario= input('Digite o salário: ')\n",
    "salario= float(salario)\n",
    "\n",
    "gasto= input('Gasto mensal: ')\n",
    "gasto= float(gasto)\n",
    "\n",
    "salario_total= (salario*12)\n",
    "gasto_total= (gasto*12)\n",
    "\n",
    "montante = (salario_total - gasto_total)\n",
    "montante = float(montante)\n",
    "print ('Sua econmia ao fim do ano: ',montante)"
   ]
  },
  {
   "cell_type": "code",
   "execution_count": 9,
   "id": "1e1f42fd",
   "metadata": {},
   "outputs": [
    {
     "name": "stdout",
     "output_type": "stream",
     "text": [
      "Qual o valor da corrida? 15\n",
      "Pague a corrida\n"
     ]
    }
   ],
   "source": [
    "passagem = 4.30\n",
    "corrida = input('Qual o valor da corrida? ')\n",
    "if float(corrida) <= passagem*5:\n",
    "    print(\"Pague a corrida\")\n",
    "else:\n",
    "    print(\"Pegue o ônibus\")"
   ]
  },
  {
   "cell_type": "code",
   "execution_count": null,
   "id": "c149bd08",
   "metadata": {},
   "outputs": [],
   "source": [
    "passagem = 4.30\n",
    "corrida = input('Qual o valor da corrida? ')\n",
    "if float(corrida) <= passagem*5:\n",
    "    print(\"Pague a corrida\")\n",
    "else:\n",
    "    if float(corrida) <= passagem*6:\n",
    "        print('Aguade um momento')\n",
    "    else:\n",
    "        print(\"Pegue o ônibus\")"
   ]
  },
  {
   "cell_type": "code",
   "execution_count": 10,
   "id": "4148ab8b",
   "metadata": {},
   "outputs": [
    {
     "name": "stdout",
     "output_type": "stream",
     "text": [
      "1 iron\n",
      "2 ball\n",
      "3 ball\n",
      "4 ball\n",
      "5 ball\n",
      "6 ball\n",
      "7 ball\n",
      "8 ball\n",
      "9 ball\n",
      "10 ball\n"
     ]
    }
   ],
   "source": [
    "contador = 0\n",
    "while contador < 10:\n",
    "    contador=contador+1\n",
    "    if contador == 1:\n",
    "        print(contador, 'iron')\n",
    "    else:\n",
    "        print(contador, 'ball')\n",
    "#print('Fim da repeição do bloco')"
   ]
  },
  {
   "cell_type": "code",
   "execution_count": 12,
   "id": "da3df651",
   "metadata": {},
   "outputs": [
    {
     "name": "stdout",
     "output_type": "stream",
     "text": [
      "1 Item limpo\n",
      "2 Intens limpos\n",
      "3 Intens limpos\n",
      "4 Intens limpos\n",
      "5 Intens limpos\n",
      "6 Intens limpos\n",
      "7 Intens limpos\n",
      "8 Intens limpos\n",
      "9 Intens limpos\n",
      "10 Intens limpos\n",
      "Fim da repeição do bloco\n"
     ]
    }
   ],
   "source": [
    "contador = 0\n",
    "\n",
    "while True:\n",
    "    if contador<10:\n",
    "        contador = contador+1\n",
    "        if contador == 1:\n",
    "            print(contador, 'Item limpo')\n",
    "        else:\n",
    "            print(contador, 'Intens limpos')\n",
    "            \n",
    "    else:\n",
    "        break\n",
    "print('Fim da repeição do bloco')"
   ]
  },
  {
   "cell_type": "code",
   "execution_count": null,
   "id": "821a1ae6",
   "metadata": {},
   "outputs": [
    {
     "name": "stdout",
     "output_type": "stream",
     "text": [
      "1\n",
      "2\n",
      "3\n",
      "4\n",
      "5\n",
      "6\n",
      "7\n",
      "8\n",
      "9\n",
      "10\n"
     ]
    }
   ],
   "source": [
    "contador = 0\n",
    "\n",
    "while True:\n",
    "    if contador<10:\n",
    "        contador = contador+1\n",
    "        print(contador)"
   ]
  },
  {
   "cell_type": "code",
   "execution_count": null,
   "id": "92103bbf",
   "metadata": {},
   "outputs": [],
   "source": []
  },
  {
   "cell_type": "code",
   "execution_count": null,
   "id": "b320031a",
   "metadata": {},
   "outputs": [],
   "source": []
  }
 ],
 "metadata": {
  "kernelspec": {
   "display_name": "Python 3 (ipykernel)",
   "language": "python",
   "name": "python3"
  },
  "language_info": {
   "codemirror_mode": {
    "name": "ipython",
    "version": 3
   },
   "file_extension": ".py",
   "mimetype": "text/x-python",
   "name": "python",
   "nbconvert_exporter": "python",
   "pygments_lexer": "ipython3",
   "version": "3.10.4"
  }
 },
 "nbformat": 4,
 "nbformat_minor": 5
}
