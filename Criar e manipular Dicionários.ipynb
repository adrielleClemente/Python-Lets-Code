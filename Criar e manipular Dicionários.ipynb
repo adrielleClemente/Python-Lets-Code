{
 "cells": [
  {
   "cell_type": "code",
   "execution_count": 1,
   "id": "f85cc273",
   "metadata": {},
   "outputs": [],
   "source": [
    "dado_cidade = {\n",
    "    'nome':'Campo Grande',\n",
    "    \"estado\": 'Ms',\n",
    "    'area':1900,\n",
    "    'populacao': 800000\n",
    "}"
   ]
  },
  {
   "cell_type": "code",
   "execution_count": 2,
   "id": "b181f7c1",
   "metadata": {},
   "outputs": [
    {
     "name": "stdout",
     "output_type": "stream",
     "text": [
      "<class 'dict'>\n"
     ]
    }
   ],
   "source": [
    "print(type(dado_cidade))"
   ]
  },
  {
   "cell_type": "code",
   "execution_count": 3,
   "id": "b22a0be9",
   "metadata": {},
   "outputs": [
    {
     "name": "stdout",
     "output_type": "stream",
     "text": [
      "{'nome': 'Campo Grande', 'estado': 'Ms', 'area': 1900, 'populacao': 800000}\n"
     ]
    }
   ],
   "source": [
    "print(dado_cidade)"
   ]
  },
  {
   "cell_type": "code",
   "execution_count": 4,
   "id": "89fd1f9d",
   "metadata": {},
   "outputs": [
    {
     "name": "stdout",
     "output_type": "stream",
     "text": [
      "{'nome': 'Campo Grande', 'estado': 'Ms', 'area': 1900, 'populacao': 800000, 'pais': 'Brasil'}\n"
     ]
    }
   ],
   "source": [
    "#adicionar a lista do dicionário\n",
    "dado_cidade['pais'] = 'Brasil'\n",
    "print(dado_cidade)"
   ]
  },
  {
   "cell_type": "code",
   "execution_count": 5,
   "id": "bd790130",
   "metadata": {},
   "outputs": [
    {
     "name": "stdout",
     "output_type": "stream",
     "text": [
      "{'nome': 'Campo Grande', 'estado': 'Ms', 'area': '1985', 'populacao': 800000, 'pais': 'Brasil'}\n"
     ]
    }
   ],
   "source": [
    "#alterar\n",
    "dado_cidade['area'] = '1985'\n",
    "print(dado_cidade)"
   ]
  },
  {
   "cell_type": "code",
   "execution_count": 6,
   "id": "f1802ab7",
   "metadata": {},
   "outputs": [
    {
     "name": "stdout",
     "output_type": "stream",
     "text": [
      "{'nome': 'Dourados', 'estado': 'Ms', 'area': '1985', 'populacao': 800000, 'pais': 'Brasil'}\n"
     ]
    }
   ],
   "source": [
    "dado_cidade2 = dado_cidade\n",
    "dado_cidade2 ['nome'] = 'Dourados'\n",
    "print(dado_cidade2)"
   ]
  },
  {
   "cell_type": "code",
   "execution_count": 7,
   "id": "3099aecd",
   "metadata": {},
   "outputs": [
    {
     "name": "stdout",
     "output_type": "stream",
     "text": [
      "{'nome': 'Dourados', 'estado': 'Ms', 'area': '1985', 'populacao': 800000, 'pais': 'Brasil'}\n"
     ]
    }
   ],
   "source": [
    "print(dado_cidade)"
   ]
  },
  {
   "cell_type": "code",
   "execution_count": 11,
   "id": "7e39f52c",
   "metadata": {},
   "outputs": [],
   "source": [
    "#copia sem alterar a variável anterior\n",
    "dado_cidade3=dado_cidade.copy()\n",
    "dado_cidade3['pais']='Argentina'\n"
   ]
  },
  {
   "cell_type": "code",
   "execution_count": 12,
   "id": "cbc766fe",
   "metadata": {},
   "outputs": [
    {
     "name": "stdout",
     "output_type": "stream",
     "text": [
      "{'nome': 'Dourados', 'estado': 'Ms', 'area': '1985', 'populacao': 800000, 'pais': 'Argentina'}\n"
     ]
    }
   ],
   "source": [
    "print(dado_cidade3)"
   ]
  },
  {
   "cell_type": "code",
   "execution_count": 13,
   "id": "e47da732",
   "metadata": {},
   "outputs": [
    {
     "name": "stdout",
     "output_type": "stream",
     "text": [
      "{'nome': 'Dourados', 'estado': 'Ms', 'area': '1985', 'populacao': 800000, 'pais': 'Brasil'}\n"
     ]
    }
   ],
   "source": [
    "print(dado_cidade)"
   ]
  },
  {
   "cell_type": "code",
   "execution_count": 21,
   "id": "c01eabcf",
   "metadata": {},
   "outputs": [
    {
     "name": "stdout",
     "output_type": "stream",
     "text": [
      "{'nome': 'Dourados', 'estado': 'Ms', 'area': '1985', 'populacao': 600000, 'pais': 'Brasil', 'fundacao': '21/06/1872'}\n"
     ]
    }
   ],
   "source": [
    "#att o dicionário\n",
    "novo = {\n",
    "    'populacao': 600000,\n",
    "    'fundacao':'21/06/1872',\n",
    "}\n",
    "dado_cidade.update(novo)\n",
    "print(dado_cidade)"
   ]
  },
  {
   "cell_type": "code",
   "execution_count": 22,
   "id": "fdae6a83",
   "metadata": {},
   "outputs": [
    {
     "name": "stdout",
     "output_type": "stream",
     "text": [
      "None\n"
     ]
    }
   ],
   "source": [
    "#método 'get'\n",
    "print(dado_cidade.get('prefeito'))"
   ]
  },
  {
   "cell_type": "code",
   "execution_count": 26,
   "id": "ced98799",
   "metadata": {},
   "outputs": [
    {
     "name": "stdout",
     "output_type": "stream",
     "text": [
      "1985\n"
     ]
    }
   ],
   "source": [
    "print(dado_cidade.get('area'))"
   ]
  },
  {
   "cell_type": "code",
   "execution_count": 28,
   "id": "0c3268fe",
   "metadata": {},
   "outputs": [
    {
     "name": "stdout",
     "output_type": "stream",
     "text": [
      "dict_keys(['nome', 'estado', 'area', 'populacao', 'pais', 'fundacao'])\n",
      "----\n",
      "dict_values(['Dourados', 'Ms', '1985', 600000, 'Brasil', '21/06/1872'])\n",
      "----\n",
      "dict_items([('nome', 'Dourados'), ('estado', 'Ms'), ('area', '1985'), ('populacao', 600000), ('pais', 'Brasil'), ('fundacao', '21/06/1872')])\n"
     ]
    }
   ],
   "source": [
    "print(dado_cidade.keys()) #retorna lista de chaves\n",
    "print('----')\n",
    "print(dado_cidade.values()) #retorna lista de valores\n",
    "print('----')\n",
    "print(dado_cidade.items()) #retorna lista de tuplar(chave,valor)"
   ]
  },
  {
   "cell_type": "code",
   "execution_count": 42,
   "id": "111bfe34",
   "metadata": {},
   "outputs": [
    {
     "name": "stdout",
     "output_type": "stream",
     "text": [
      " Ola\n",
      " Mundo!\n"
     ]
    }
   ],
   "source": [
    "print(\" Ola\\n Mundo!\")"
   ]
  }
 ],
 "metadata": {
  "kernelspec": {
   "display_name": "Python 3 (ipykernel)",
   "language": "python",
   "name": "python3"
  },
  "language_info": {
   "codemirror_mode": {
    "name": "ipython",
    "version": 3
   },
   "file_extension": ".py",
   "mimetype": "text/x-python",
   "name": "python",
   "nbconvert_exporter": "python",
   "pygments_lexer": "ipython3",
   "version": "3.10.4"
  }
 },
 "nbformat": 4,
 "nbformat_minor": 5
}
